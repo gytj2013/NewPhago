{
  "nbformat": 4,
  "nbformat_minor": 0,
  "metadata": {
    "colab": {
      "name": "newphago_summarize.ipynb",
      "provenance": [],
      "collapsed_sections": [],
      "include_colab_link": true
    },
    "kernelspec": {
      "name": "python3",
      "display_name": "Python 3"
    },
    "language_info": {
      "name": "python"
    },
    "accelerator": "GPU"
  },
  "cells": [
    {
      "cell_type": "markdown",
      "metadata": {
        "id": "view-in-github",
        "colab_type": "text"
      },
      "source": [
        "<a href=\"https://colab.research.google.com/github/gytj2013/NewPhago/blob/main/newphago_summarize.ipynb\" target=\"_parent\"><img src=\"https://colab.research.google.com/assets/colab-badge.svg\" alt=\"Open In Colab\"/></a>"
      ]
    },
    {
      "cell_type": "code",
      "source": [
        "!curl -s https://raw.githubusercontent.com/teddylee777/machine-learning/master/99-Misc/01-Colab/mecab-colab.sh | bash"
      ],
      "metadata": {
        "id": "lt_rPZVTgC39"
      },
      "execution_count": null,
      "outputs": []
    },
    {
      "cell_type": "code",
      "execution_count": null,
      "metadata": {
        "id": "Fu7GbJf4m4h1"
      },
      "outputs": [],
      "source": [
        "!pip install konlpy\n",
        "!pip install git+https://github.com/kakaobrain/pororo.git\n",
        "!pip install pykrx \n",
        "!pip install jamo"
      ]
    },
    {
      "cell_type": "code",
      "source": [
        "! git clone https://github.com/SOMJANG/Mecab-ko-for-Google-Colab.git"
      ],
      "metadata": {
        "id": "9tybPTd5LfeP"
      },
      "execution_count": null,
      "outputs": []
    },
    {
      "cell_type": "code",
      "source": [
        "cd Mecab-ko-for-Google-Colab"
      ],
      "metadata": {
        "id": "2dPvs2oTL3qP"
      },
      "execution_count": null,
      "outputs": []
    },
    {
      "cell_type": "code",
      "source": [
        "!bash install_mecab-ko_on_colab_light_220111.sh"
      ],
      "metadata": {
        "id": "wKyMiEvtL8rh"
      },
      "execution_count": null,
      "outputs": []
    },
    {
      "cell_type": "code",
      "source": [
        "from pororo import Pororo"
      ],
      "metadata": {
        "id": "9tQ0AINXo6KL"
      },
      "execution_count": 6,
      "outputs": []
    },
    {
      "cell_type": "code",
      "source": [
        "cd ../"
      ],
      "metadata": {
        "id": "pqp8GQ7OPbX-"
      },
      "execution_count": null,
      "outputs": []
    },
    {
      "cell_type": "code",
      "source": [
        "!pip install -U Finance-DataReader"
      ],
      "metadata": {
        "id": "XCLBPryoiZgv"
      },
      "execution_count": null,
      "outputs": []
    },
    {
      "cell_type": "code",
      "source": [
        "# 코스피 코스닥 상장 기업 정보 리스트 생성\n",
        "from pykrx import stock\n",
        "import pandas as pd\n",
        "import FinanceDataReader as fdr\n",
        "import matplotlib.pyplot as plt\n",
        "import platform\n",
        "from datetime import datetime, timedelta\n",
        "\n",
        "today = datetime.today().strftime(\"%Y%m%d\")\n",
        "last_week = (datetime.today() - timedelta(7)).strftime(\"%Y%m%d\")\n",
        "\n",
        "KOSDAQ = stock.get_market_ticker_list(market=\"KOSDAQ\")\n",
        "KOSPI = stock.get_market_ticker_list(market=\"KOSPI\")\n",
        "\n",
        "def return_name():\n",
        "    Company = []\n",
        "\n",
        "    for ticker in KOSDAQ:\n",
        "        Value =stock.get_market_ticker_name(ticker)\n",
        "        Company.append([Value,ticker,\"KOSDAQ\"]) # 기업명, 종목번호, 코스닥 리스트에 추가\n",
        "      \n",
        "    for ticker in KOSPI:\n",
        "        Value =stock.get_market_ticker_name(ticker)\n",
        "        Company.append([Value,ticker,\"KOSPI\"]) # 기업명, 종목번호, 코스닥 리스트에 추가\n",
        " \n",
        "    return Company;"
      ],
      "metadata": {
        "id": "bhLnQVi9p1AR"
      },
      "execution_count": null,
      "outputs": []
    },
    {
      "cell_type": "code",
      "source": [
        "# 종성 여부 체크\n",
        "from jamo import h2j, j2hcj\n",
        "\n",
        "def get_jongsung_TF(text):\n",
        "  sample_text_list = list(text)\n",
        "  last_word = sample_text_list[-1]\n",
        "  last_word_jamo_list = list(j2hcj(h2j(last_word)))\n",
        "  last_jamo = last_word_jamo_list[-1]\n",
        "\n",
        "  jongsung_TF = \"T\"\n",
        "\n",
        "  if last_jamo in ['ㅏ','ㅑ','ㅓ','ㅕ','ㅗ','ㅛ','ㅜ','ㅠ','ㅡ','ㅣ','ㅘ','ㅚ','ㅙ','ㅝ','ㅞ','ㅢ','ㅐ','ㅔ','ㅟ','ㅖ','ㅒ'] :\n",
        "    jongsung_TF = \"F\"\n",
        "\n",
        "  return jongsung_TF"
      ],
      "metadata": {
        "id": "KgBKosMxSweY"
      },
      "execution_count": 10,
      "outputs": []
    },
    {
      "cell_type": "code",
      "source": [
        "# 사용자 사전 적용 : 고유명사 구분하기 위해 코스피, 코스닥 상장 기업들 사용자 사전에 추가\n",
        "with open(\"./mecab-ko-dic-2.1.1-20180720/user-dic/nnp.csv\",'r',encoding='utf-8') as f:\n",
        "  file_data = f.readlines()\n",
        "Company = return_name()\n",
        "for c in Company:\n",
        "  jongsung_TF = get_jongsung_TF(c[0])\n",
        "  line = '{},,,,NNP,*,{},{},*,*,*,*,*\\n'.format(c[0], jongsung_TF, c[0])\n",
        "  file_data.append(line)\n",
        "with open(\"./mecab-ko-dic-2.1.1-20180720/user-dic/nnp.csv\",'w',encoding='utf-8') as f:\n",
        "  for line in file_data:\n",
        "    f.write(line)"
      ],
      "metadata": {
        "id": "-6aDOj0xRHkm"
      },
      "execution_count": null,
      "outputs": []
    },
    {
      "cell_type": "code",
      "source": [
        "# 뉴스 요약 및 기업 정보 추출\n",
        "from bs4 import BeautifulSoup\n",
        "import requests\n",
        "from nltk.corpus import stopwords \n",
        "from nltk.tokenize import word_tokenize\n",
        "from konlpy.tag import Mecab\n",
        "from pykrx import stock\n",
        "import pandas as pd\n",
        "import FinanceDataReader as fdr\n",
        "import matplotlib.pyplot as plt\n",
        "import platform\n",
        "from datetime import datetime, timedelta\n",
        "\n",
        "today = datetime.today().strftime(\"%Y%m%d\")\n",
        "last_week = (datetime.today() - timedelta(7)).strftime(\"%Y%m%d\")\n",
        "\n",
        "bullet_summ = Pororo(task=\"text_summarization\", lang=\"ko\", model=\"bullet\")\n",
        "abs_summ = Pororo(task=\"text_summarization\", lang=\"ko\", model=\"abstractive\")\n",
        "\n",
        "def summerize_news(url, Company):\n",
        "    headers = {\"User-Agent\": \"Mozilla/5.0 (Windows NT 10.0; Win64; x64) AppleWebKit/537.36 (KHTML, like Gecko) Chrome/87.0.4280.88 Safari/537.36\"}\n",
        "    req = requests.get(url, headers=headers)\n",
        "    soup = BeautifulSoup(req.text, 'html.parser')\n",
        "    body = soup.find_all(id='dic_area')\n",
        "    if len(body) > 0:\n",
        "        text = body[0].text\n",
        "        output_bullet = bullet_summ(text,\n",
        "                                    beam=5,\n",
        "                                    len_penalty=0.6,\n",
        "                                    no_repeat_ngram_size=3,\n",
        "                                    top_k=50,\n",
        "                                    top_p=0.7)\n",
        "        summary_output = abs_summ(text,\n",
        "                                  beam=5,\n",
        "                                  len_penalty=0.6,\n",
        "                                  no_repeat_ngram_size=3,\n",
        "                                  top_k=50,\n",
        "                                  top_p=0.7\n",
        "                                  )\n",
        "      \n",
        "        mecab = Mecab()\n",
        "        noun = mecab.nouns(summary_output) # 명사만 추출\n",
        "        pos = mecab.pos(summary_output) # 형태소 분석\n",
        "        removelist = ['JKS', 'JKC', 'JKG', 'JKO', 'JKB', 'JKV', 'JKQ', 'JX', 'JC', 'EF'] # 조사 품사 리스트 - 제거할 품사\n",
        "        resultlist = []\n",
        "        for p in pos :\n",
        "          if len(p[0])>1 and p[1] not in removelist : # 토큰의 길이가 1 초과이고 조사가 아니면 감정 분석에 활용할 토큰이므로 리스트에 추가\n",
        "            resultlist.append(p)\n",
        "        #print(pos)\n",
        "        #print(resultlist)\n",
        "\n",
        "        company_name = []\n",
        "        for c in Company :\n",
        "          company_name.append(c[0]);\n",
        "\n",
        "        summ = \"[주요] \\n\"\n",
        "        for line in output_bullet:\n",
        "          summ += \"-\"+line+\"\\n\"\n",
        "        summ += \"[요약] \\n\"\n",
        "        summ += summary_output+\"\\n\" # 뉴스 요약본\n",
        "        summ += \"[회사정보] \\n\"\n",
        "        chk = False\n",
        "        idx = 0\n",
        "        for n in noun : # 뉴스 요약본 속 명사들 중에서 코스피, 코스닥 상장 기업명 찾기\n",
        "          try :\n",
        "            idx = company_name.index(n)\n",
        "          except :\n",
        "            chk = False\n",
        "          else :\n",
        "            summ += str(Company[idx])\n",
        "            chk = True\n",
        "            break\n",
        "        if chk==False :\n",
        "          summ += \"null \\n\"\n",
        "        print(summ)\n",
        "        if (idx != 0):\n",
        "          ticker = Company[idx][1]\n",
        "          info_a = stock.get_market_ohlcv(last_week, today, ticker)\n",
        "          print(info_a) #주가\n",
        "          info_b = stock.get_market_cap(last_week, today, ticker)\n",
        "          print(info_b) #시가총액, 거래량, 거래대금, 상장주식수 \n",
        "          info_c = stock.get_exhaustion_rates_of_foreign_investment(last_week, today, ticker)\n",
        "          print(info_c) #외국인 보유량 및 외국인 한도소진율\n",
        "          info_d = stock.get_market_fundamental(last_week, today, ticker)\n",
        "          print(info_d) #DIV/BPS/PER/EPS\n",
        "          info_e = stock.get_shorting_volume_by_date(last_week, today, ticker)\n",
        "          print(info_e) #공매도 현황\n",
        "          info_g = fdr.DataReader(symbol=ticker, start= \"2020\")\n",
        "          fig = plt.figure(figsize=(14, 6))\n",
        "          ax = fig.add_subplot(1, 1, 1)\n",
        "          ax.plot(info_g['Close'])\n",
        "          ax.set_xlabel(\"Date\")\n",
        "          ax.set_ylabel(ticker)\n",
        "          ax.set_title(\"stock price\")\n",
        "          plt.grid(True, axis='y')\n",
        "          plt.show() #주가그래프\n",
        "        return summ\n",
        "    else:\n",
        "        print(\"error\")\n",
        "        return \"error\""
      ],
      "metadata": {
        "id": "L3e2MBeqx8b8"
      },
      "execution_count": null,
      "outputs": []
    },
    {
      "cell_type": "code",
      "source": [
        "import time\n",
        "import re\n",
        "import requests\n",
        "from datetime import datetime\n",
        "from dateutil.relativedelta import relativedelta\n",
        "\n",
        "# 오늘 날짜 형식화\n",
        "now=datetime.now()\n",
        "now=str(now)\n",
        "year=now[0:4]\n",
        "month=now[5:7]\n",
        "day=now[8:10]\n",
        "res=year+month+day\n",
        "\n",
        "# url file에 저장 (max_page_num 바꿔주면 됨)\n",
        "output_file_name=str(res)+\"_url.txt\"\n",
        "output_file = open(output_file_name, \"w\", encoding=\"utf-8\")\n",
        "page_num = 1\n",
        "max_page_num = 1\n",
        "\n",
        "user_agent = \"'Mozilla/5.0\"\n",
        "headers ={\"User-Agent\" : user_agent}\n",
        "\n",
        "urls = []\n",
        "while page_num<=max_page_num:\n",
        "    page_url = \"http://news.naver.com/main/list.nhn?sid2=258&sid1=101&mid=shm&mode=LS2D&date=\" + str(res) + \"&page=\" + str(page_num) + \"\"\n",
        "    response = requests.get(page_url, headers=headers)\n",
        "    html = response.text\n",
        "    # url 추출\n",
        "    url_frags = re.findall('<a href=\"(.*?)\"',html)\n",
        "    for url_frag in url_frags:\n",
        "        if \"article\" in url_frag:\n",
        "            urls.append(url_frag)\n",
        "            #print(url_frag)\n",
        "    page_num+=1\n",
        "urls=set(urls)\n",
        "for url in urls:\n",
        "    print(url, file=output_file)\n",
        "time.sleep(2)\n",
        "output_file.close()\n",
        "\n",
        "# url 바탕으로 요약문 생성\n",
        "# 요약문 file에 저장(테스트용으로 count로 6개만 끊어준것임)\n",
        "output_file_name2=str(res)+\"_summarized.txt\"\n",
        "output_file2 = open(output_file_name2, \"w\", encoding=\"utf-8\")\n",
        "count=0\n",
        "for url in urls:\n",
        "  if(count>20):\n",
        "    break\n",
        "  count=count+1\n",
        "  print(summerize_news(url,return_name()), file=output_file2)\n",
        "output_file2.close()\n",
        "'''\n",
        "# mount it\n",
        "from google.colab import drive\n",
        "drive.mount('/content/drive')\n",
        "# copy it there\n",
        "!cp \"20220408_summarized.txt\" /content/drive/MyDrive\n",
        "!cp \"20220408_url.txt\" /content/drive/MyDrive\n",
        "'''\n"
      ],
      "metadata": {
        "id": "2ctsAa2Apzer"
      },
      "execution_count": null,
      "outputs": []
    },
    {
      "cell_type": "code",
      "source": [
        "summerize_news('https://n.news.naver.com/mnews/article/277/0005088162?sid=101', return_name())"
      ],
      "metadata": {
        "id": "a67ezLSK0zma",
        "colab": {
          "base_uri": "https://localhost:8080/",
          "height": 1000
        },
        "outputId": "7a6b09b1-ac3b-4d5a-992d-735bf17b2a36"
      },
      "execution_count": 34,
      "outputs": [
        {
          "output_type": "stream",
          "name": "stdout",
          "text": [
            "[주요] \n",
            "-장남 신유열 상무 합류\n",
            "- 인수·합병 담당할 듯\n",
            "[요약] \n",
            "롯데 급여 신유열씨는 2020년 일본 롯데와 일본 롯데홀딩스에 입사해 근무했으며 최근 롯데케미칼 일본 지사에 미등기 임원으로 참여했는데, 일본 롯데, 롯데홀딩스 업무도 겸직하면서 향후 인수·합병(M&A) 업무를 담당할 것으로 보인다.\n",
            "[회사정보] \n",
            "['롯데케미칼', '011170', 'KOSPI']\n",
            "                시가      고가      저가      종가     거래량\n",
            "날짜                                                \n",
            "2022-05-06  196500  198000  195500  197000   50794\n",
            "2022-05-09  196000  196500  191000  192000   70139\n",
            "2022-05-10  191000  191500  186000  189500  107593\n",
            "2022-05-11  187000  192500  187000  191500   92096\n",
            "2022-05-12  189500  192000  187000  188000  103716\n",
            "2022-05-13  186500  192000  186500  191500   36110\n",
            "                     시가총액     거래량         거래대금     상장주식수\n",
            "날짜                                                      \n",
            "2022-05-06  6752257543000   50794  10013507000  34275419\n",
            "2022-05-09  6580880448000   70139  13526781500  34275419\n",
            "2022-05-10  6495191900500  107593  20434978000  34275419\n",
            "2022-05-11  6563742738500   92096  17471031000  34275419\n",
            "2022-05-12  6443778772000  103716  19579649000  34275419\n",
            "2022-05-13  6563742738500   35346   6726240500  34275419\n",
            "               상장주식수     보유수량        지분율      한도수량      한도소진률\n",
            "날짜                                                           \n",
            "2022-05-06  34275419  8331404  24.312500  34275419  24.312500\n",
            "2022-05-09  34275419  8339946  24.328125  34275419  24.328125\n",
            "2022-05-10  34275419  8341360  24.343750  34275419  24.343750\n",
            "2022-05-11  34275419  8318733  24.265625  34275419  24.265625\n",
            "2022-05-12  34275419  8324471  24.296875  34275419  24.296875\n",
            "2022-05-13  34275419  8316171  24.265625  34275419  24.265625\n",
            "               BPS   PER   PBR    EPS   DIV   DPS\n",
            "날짜                                               \n",
            "2022-05-06  420424  5.02  0.47  39260  4.21  8300\n",
            "2022-05-09  420424  4.89  0.46  39260  4.32  8300\n",
            "2022-05-10  420424  4.83  0.45  39260  4.38  8300\n",
            "2022-05-11  420424  4.88  0.46  39260  4.33  8300\n",
            "2022-05-12  420424  4.79  0.45  39260  4.41  8300\n",
            "2022-05-13  420424  4.88  0.46  39260  4.33  8300\n",
            "              공매도      매수         비중\n",
            "날짜                                  \n",
            "2022-05-06   7670   50794  15.100000\n",
            "2022-05-09   6944   70139   9.900000\n",
            "2022-05-10  24873  107593  23.120001\n",
            "2022-05-11  14117   92096  15.330000\n",
            "2022-05-12  14262  103716  13.750000\n"
          ]
        },
        {
          "output_type": "display_data",
          "data": {
            "text/plain": [
              "<Figure size 1008x432 with 1 Axes>"
            ],
            "image/png": "[encoded data removed]"
          },
          "metadata": {
            "needs_background": "light"
          }
        },
        {
          "output_type": "execute_result",
          "data": {
            "text/plain": [
              "\"[주요] \\n-장남 신유열 상무 합류\\n- 인수·합병 담당할 듯\\n[요약] \\n롯데 급여 신유열씨는 2020년 일본 롯데와 일본 롯데홀딩스에 입사해 근무했으며 최근 롯데케미칼 일본 지사에 미등기 임원으로 참여했는데, 일본 롯데, 롯데홀딩스 업무도 겸직하면서 향후 인수·합병(M&A) 업무를 담당할 것으로 보인다.\\n[회사정보] \\n['롯데케미칼', '011170', 'KOSPI']\""
            ],
            "application/vnd.google.colaboratory.intrinsic+json": {
              "type": "string"
            }
          },
          "metadata": {},
          "execution_count": 34
        }
      ]
    }
  ]
}