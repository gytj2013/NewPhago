{
  "nbformat": 4,
  "nbformat_minor": 0,
  "metadata": {
    "colab": {
      "name": "newphago_summarize.ipynb의 사본",
      "provenance": [],
      "collapsed_sections": [],
      "include_colab_link": true
    },
    "kernelspec": {
      "name": "python3",
      "display_name": "Python 3"
    },
    "language_info": {
      "name": "python"
    },
    "accelerator": "GPU"
  },
  "cells": [
    {
      "cell_type": "markdown",
      "metadata": {
        "id": "view-in-github",
        "colab_type": "text"
      },
      "source": [
        "<a href=\"https://colab.research.google.com/github/gytj2013/NewPhago/blob/main/newphago_summarize.ipynb\" target=\"_parent\"><img src=\"https://colab.research.google.com/assets/colab-badge.svg\" alt=\"Open In Colab\"/></a>"
      ]
    },
    {
      "cell_type": "code",
      "execution_count": null,
      "metadata": {
        "id": "Fu7GbJf4m4h1"
      },
      "outputs": [],
      "source": [
        "!pip install konlpy\n",
        "!pip install git+https://github.com/kakaobrain/pororo.git\n",
        "!pip install pykrx \n",
        "!pip install -U Finance-DataReader"
      ]
    },
    {
      "cell_type": "code",
      "source": [
        "# 코스피 코스닥 상장 기업 종목번호 사전 생성\n",
        "from pykrx import stock\n",
        "import pandas as pd\n",
        "import FinanceDataReader as fdr\n",
        "import matplotlib.pyplot as plt\n",
        "import platform\n",
        "from datetime import datetime, timedelta\n",
        "\n",
        "today = datetime.today().strftime(\"%Y%m%d\")\n",
        "last_week = (datetime.today() - timedelta(7)).strftime(\"%Y%m%d\")\n",
        "\n",
        "KOSDAQ = stock.get_market_ticker_list(market=\"KOSDAQ\")\n",
        "KOSPI = stock.get_market_ticker_list(market=\"KOSPI\")\n",
        "\n",
        "def return_name():\n",
        "    Company = {}\n",
        "\n",
        "    for ticker in KOSDAQ:\n",
        "        Value =stock.get_market_ticker_name(ticker)\n",
        "        Company[Value]=ticker # 기업명, 종목번호, 코스닥 리스트에 추가\n",
        "      \n",
        "    for ticker in KOSPI:\n",
        "        Value =stock.get_market_ticker_name(ticker)\n",
        "        Company[Value]=ticker # 기업명, 종목번호, 코스닥 리스트에 추가\n",
        " \n",
        "    return Company;"
      ],
      "metadata": {
        "id": "bhLnQVi9p1AR"
      },
      "execution_count": null,
      "outputs": []
    },
    {
      "cell_type": "code",
      "source": [
        "# 뉴스 요약\n",
        "from bs4 import BeautifulSoup\n",
        "import requests\n",
        "from pororo import Pororo\n",
        "\n",
        "bullet_summ = Pororo(task=\"text_summarization\", lang=\"ko\", model=\"bullet\")\n",
        "abs_summ = Pororo(task=\"text_summarization\", lang=\"ko\", model=\"abstractive\")\n",
        "\n",
        "def summerize_news(url):\n",
        "    headers = {\"User-Agent\": \"Mozilla/5.0 (Windows NT 10.0; Win64; x64) AppleWebKit/537.36 (KHTML, like Gecko) Chrome/87.0.4280.88 Safari/537.36\"}\n",
        "    req = requests.get(url, headers=headers)\n",
        "    soup = BeautifulSoup(req.text, 'html.parser')\n",
        "    body = soup.find_all(id='dic_area')\n",
        "    if len(body) > 0:\n",
        "        text = body[0].text\n",
        "        output_bullet = bullet_summ(text,\n",
        "                                  beam=5,\n",
        "                                  len_penalty=0.6,\n",
        "                                  no_repeat_ngram_size=3,\n",
        "                                  top_k=50,\n",
        "                                  top_p=0.7)\n",
        "        summary_output = abs_summ(text,\n",
        "                                  beam=5,\n",
        "                                  len_penalty=0.6,\n",
        "                                  no_repeat_ngram_size=3,\n",
        "                                  top_k=50,\n",
        "                                  top_p=0.7\n",
        "                                  )\n",
        "        return output_bullet, summary_output\n",
        "    else:\n",
        "        return \"error\""
      ],
      "metadata": {
        "id": "aSJGKmj4YIu4"
      },
      "execution_count": null,
      "outputs": []
    },
    {
      "cell_type": "code",
      "source": [
        "# 요약문 감정 분석\n",
        "from pororo import Pororo\n",
        "\n",
        "dataset1 = Pororo(task='sentiment',model='brainbert.base.ko.shopping', lang='ko') # 네이버 쇼핑 데이터셋\n",
        "#dataset2 = Pororo(task='sentiment', model='brainbert.base.ko.nsmc', lang='ko') # 네이버 영화 리뷰 데이터셋\n",
        "\n",
        "def forecast(sum):\n",
        "  return dataset1(sum)"
      ],
      "metadata": {
        "id": "MKxgxOUamLYz"
      },
      "execution_count": null,
      "outputs": []
    },
    {
      "cell_type": "code",
      "source": [
        "# 기업명 추출\n",
        "from pororo import Pororo\n",
        "\n",
        "def extract_company(sum, CompanyDic):\n",
        "  company_name = CompanyDic.keys()\n",
        "  ner = Pororo(task=\"ner\", lang=\"ko\")\n",
        "  companyL = []\n",
        "  for word in ner(sum):\n",
        "    if word[1]=='ORGANIZATION' :\n",
        "      if word[0] in company_name and word[0] not in companyL :\n",
        "        companyL.append(word[0])\n",
        "  return companyL"
      ],
      "metadata": {
        "id": "P69bFfQtZrej"
      },
      "execution_count": null,
      "outputs": []
    },
    {
      "cell_type": "code",
      "source": [
        "# 기업 주가 정보\n",
        "from pykrx import stock\n",
        "import pandas as pd\n",
        "import FinanceDataReader as fdr\n",
        "import matplotlib.pyplot as plt\n",
        "import platform\n",
        "from datetime import datetime, timedelta\n",
        "\n",
        "today = datetime.today().strftime(\"%Y%m%d\")\n",
        "last_week = (datetime.today() - timedelta(7)).strftime(\"%Y%m%d\")\n",
        "\n",
        "def company_info(company, CompanyDic):\n",
        "  ticker = CompanyDic[company]\n",
        "  info_a = stock.get_market_ohlcv(last_week, today, ticker)\n",
        "  print(info_a) #주가\n",
        "  info_b = stock.get_market_cap(last_week, today, ticker)\n",
        "  print(info_b) #시가총액, 거래량, 거래대금, 상장주식수 \n",
        "  info_c = stock.get_exhaustion_rates_of_foreign_investment(last_week, today, ticker)\n",
        "  print(info_c) #외국인 보유량 및 외국인 한도소진율\n",
        "  info_d = stock.get_market_fundamental(last_week, today, ticker)\n",
        "  print(info_d) #DIV/BPS/PER/EPS\n",
        "  info_e = stock.get_shorting_volume_by_date(last_week, today, ticker)\n",
        "  print(info_e) #공매도 현황\n",
        "  info_g = fdr.DataReader(symbol=ticker, start= \"2020\")\n",
        "  fig = plt.figure(figsize=(14, 6))\n",
        "  ax = fig.add_subplot(1, 1, 1)\n",
        "  ax.plot(info_g['Close'])\n",
        "  ax.set_xlabel(\"Date\")\n",
        "  ax.set_ylabel(ticker)\n",
        "  ax.set_title(\"stock price\")\n",
        "  plt.grid(True, axis='y')\n",
        "  plt.show() #주가그래프\n",
        "  return 0"
      ],
      "metadata": {
        "id": "1yQkkeAZgS0q"
      },
      "execution_count": null,
      "outputs": []
    },
    {
      "cell_type": "code",
      "source": [
        "# URL 가져오기\n",
        "import re\n",
        "from datetime import datetime\n",
        "import requests\n",
        "\n",
        "def getURL() :\n",
        "\n",
        "  # 오늘 날짜 형식화\n",
        "  now=datetime.now()\n",
        "  now=str(now)\n",
        "  year=now[0:4]\n",
        "  month=now[5:7]\n",
        "  day=now[8:10]\n",
        "  res=year+month+day\n",
        "\n",
        "  user_agent = \"'Mozilla/5.0\"\n",
        "  headers ={\"User-Agent\" : user_agent}\n",
        "\n",
        "  page_num = 1\n",
        "  max_page_num = 1\n",
        "  urls = []\n",
        "  while page_num<=max_page_num:\n",
        "    page_url = \"http://news.naver.com/main/list.nhn?sid2=258&sid1=101&mid=shm&mode=LS2D&date=\" + str(res) + \"&page=\" + str(page_num) + \"\"\n",
        "    response = requests.get(page_url, headers=headers)\n",
        "    html = response.text\n",
        "    # url 추출\n",
        "    url_frags = re.findall('<a href=\"(.*?)\"',html)\n",
        "    for url_frag in url_frags:\n",
        "        if \"article\" in url_frag:\n",
        "            urls.append(url_frag)\n",
        "    page_num+=1\n",
        "  return set(urls)"
      ],
      "metadata": {
        "id": "SiXzjBhvoj6W"
      },
      "execution_count": null,
      "outputs": []
    },
    {
      "cell_type": "code",
      "source": [
        "sum = summerize_news('https://n.news.naver.com/mnews/article/277/0005088162?sid=101')\n",
        "print(\"요약 : \"+sum+\"\\n\")\n",
        "print(\"예측 : \"+forecast(sum)+\"\\n\")\n",
        "companyL = extract_company(sum, return_name())\n",
        "print(\"기업명 : \"+companyL[0]+\"\\n\")\n",
        "company_info(companyL[0], return_name())"
      ],
      "metadata": {
        "id": "a67ezLSK0zma",
        "colab": {
          "base_uri": "https://localhost:8080/",
          "height": 1000
        },
        "outputId": "48aaa647-bf67-447c-96ab-ced7176c7a1d"
      },
      "execution_count": null,
      "outputs": [
        {
          "output_type": "stream",
          "name": "stdout",
          "text": [
            "요약 : 롯데 급여 신유열씨는 2020년 일본 롯데와 일본 롯데홀딩스에 입사해 근무했으며 최근 롯데케미칼 일본 지사에 미등기 임원으로 참여했는데, 일본 롯데, 롯데홀딩스 업무도 겸직하면서 향후 인수·합병(M&A) 업무를 담당할 것으로 보인다.\n",
            "\n",
            "예측 : Positive\n",
            "\n",
            "기업명 : 롯데케미칼\n",
            "\n",
            "                시가      고가      저가      종가     거래량\n",
            "날짜                                                \n",
            "2022-05-10  191000  191500  186000  189500  107593\n",
            "2022-05-11  187000  192500  187000  191500   92096\n",
            "2022-05-12  189500  192000  187000  188000  103716\n",
            "2022-05-13  186500  192500  186500  192500   58307\n",
            "2022-05-16  193000  194000  190000  192500   54750\n",
            "2022-05-17  193000  198000  193000  196500  107787\n",
            "                     시가총액     거래량         거래대금     상장주식수\n",
            "날짜                                                      \n",
            "2022-05-10  6495191900500  107593  20434978000  34275419\n",
            "2022-05-11  6563742738500   92096  17471031000  34275419\n",
            "2022-05-12  6443778772000  103716  19579649000  34275419\n",
            "2022-05-13  6598018157500   58307  11130666500  34275419\n",
            "2022-05-16  6598018157500   54750  10501270000  34275419\n",
            "2022-05-17  6735119833500  108018  21177240000  34275419\n",
            "               상장주식수     보유수량        지분율      한도수량      한도소진률\n",
            "날짜                                                           \n",
            "2022-05-10  34275419  8341360  24.343750  34275419  24.343750\n",
            "2022-05-11  34275419  8318733  24.265625  34275419  24.265625\n",
            "2022-05-12  34275419  8324471  24.296875  34275419  24.296875\n",
            "2022-05-13  34275419  8316171  24.265625  34275419  24.265625\n",
            "2022-05-16  34275419  8332789  24.312500  34275419  24.312500\n",
            "2022-05-17  34275419  8328100  24.296875  34275419  24.296875\n",
            "               BPS   PER   PBR    EPS   DIV   DPS\n",
            "날짜                                               \n",
            "2022-05-10  420424  4.83  0.45  39260  4.38  8300\n",
            "2022-05-11  420424  4.88  0.46  39260  4.33  8300\n",
            "2022-05-12  420424  4.79  0.45  39260  4.41  8300\n",
            "2022-05-13  420424  4.90  0.46  39260  4.31  8300\n",
            "2022-05-16  420424  4.90  0.46  39260  4.31  8300\n",
            "2022-05-17  420424  5.01  0.47  39260  4.22  8300\n",
            "              공매도      매수         비중\n",
            "날짜                                  \n",
            "2022-05-10  24873  107593  23.120001\n",
            "2022-05-11  14117   92096  15.330000\n",
            "2022-05-12  14262  103716  13.750000\n",
            "2022-05-13   2389   58307   4.100000\n",
            "2022-05-16   8747   54750  15.980000\n",
            "2022-05-17  19485  108018  18.040001\n"
          ]
        },
        {
          "output_type": "display_data",
          "data": {
            "text/plain": [
              "<Figure size 1008x432 with 1 Axes>"
            ],
            "image/png": "[encoded data removed]"
          },
          "metadata": {
            "needs_background": "light"
          }
        },
        {
          "output_type": "execute_result",
          "data": {
            "text/plain": [
              "0"
            ]
          },
          "metadata": {},
          "execution_count": 46
        }
      ]
    },
    {
      "cell_type": "code",
      "source": [
        "# 주가 api 이용해서 주가 정보 받아오기\n",
        "from urllib import parse \n",
        "from ast import literal_eval \n",
        "import requests \n",
        "from datetime import datetime\n",
        "\n",
        "def get_sise(code) : \n",
        "  today = datetime.today().strftime(\"%Y%m%d\")\n",
        "  get_param = { \n",
        "      'symbol':code, \n",
        "      'requestType':1, \n",
        "      'startTime':today, \n",
        "      'endTime':today, \n",
        "      'timeframe':'day'\n",
        "      } \n",
        "  get_param = parse.urlencode(get_param) \n",
        "  url=\"https://api.finance.naver.com/siseJson.naver?%s\"%(get_param)\n",
        "  response = requests.get(url) \n",
        "  return literal_eval(response.text.strip()) \n",
        "\n",
        "get_sise('005930')"
      ],
      "metadata": {
        "id": "o65MgMxKwQru"
      },
      "execution_count": null,
      "outputs": []
    },
    {
      "cell_type": "code",
      "source": [
        "# json 파일 생성\n",
        "\n",
        "def makeJson(newsData, dic) :\n",
        "  data = {}\n",
        "  data['company'] = []\n",
        "  idx = 0\n",
        "  for key, value in dic.items():\n",
        "    data['company'].append({\n",
        "      \"company_name\" : key,\n",
        "      \"ticker\" : value,\n",
        "      \"stock_graph\" : '',\n",
        "      \"stock_info\" : [],\n",
        "      \"news\" : []\n",
        "    })\n",
        "    stockInfo = get_sise(value)\n",
        "    for i in range(0, len(stockInfo[0])) :\n",
        "      data['company'][idx]['stock_info'].append({\n",
        "        stockInfo[0][i] : stockInfo[1][i]\n",
        "      })\n",
        "    idx+=1\n",
        "    #print(data)\n",
        "  companyL = list(dic.keys())\n",
        "  for key, value in newsData.items():\n",
        "    idx = companyL.index(key)\n",
        "    data['company'][idx]['news'] = value\n",
        "  return data\n"
      ],
      "metadata": {
        "id": "qDHXGDzwi68F"
      },
      "execution_count": 52,
      "outputs": []
    },
    {
      "cell_type": "code",
      "source": [
        "# 뉴스 파일 생성\n",
        "\n",
        "def makeNewsJson() :\n",
        "  urlL = ['https://n.news.naver.com/mnews/article/277/0005088162?sid=101'] #list(getURL())\n",
        "  news = {}\n",
        "  for u in urlL :\n",
        "    impo, sum = summerize_news(u)\n",
        "    fore = forecast(sum)\n",
        "    companyL = extract_company(sum, return_name())\n",
        "    name = \"\"\n",
        "    if len(companyL)!=0 :\n",
        "      name = companyL[0]\n",
        "    if name==\"\" :\n",
        "      continue\n",
        "    if name not in news :\n",
        "      news[name] = [{\n",
        "          \"important\" : impo,\n",
        "          \"summary\" : sum,\n",
        "          \"sentiment\" : fore,\n",
        "          \"url\" : u\n",
        "      }]\n",
        "    else :\n",
        "      news[name].append({\n",
        "          \"important\" : impo,\n",
        "          \"summary\" : sum,\n",
        "          \"sentiment\" : fore,\n",
        "          \"url\" : u\n",
        "      })\n",
        "    #print(news)\n",
        "  return news\n",
        "makeNewsJson()"
      ],
      "metadata": {
        "colab": {
          "base_uri": "https://localhost:8080/"
        },
        "id": "ArLPV0D325A0",
        "outputId": "8f8b37b8-755f-4e55-9bba-5b1461b735cd"
      },
      "execution_count": null,
      "outputs": [
        {
          "output_type": "execute_result",
          "data": {
            "text/plain": [
              "{'롯데케미칼': [{'important': ['롯데케미칼 日지사 상무 합류', ' 인수·합병 담당할 듯'],\n",
              "   'sentiment': 'Positive',\n",
              "   'summary': '롯데 황동빈 롯데그룹 회장의 장남 신유열씨가 최근 롯데케미칼 일본 지사에 상무로 합류했는데, 일본 롯데, 롯데홀딩스 업무도 겸직하면서 향후 인수·합병(M&A) 업무를 담당할 것으로 알려졌다.',\n",
              "   'url': 'https://n.news.naver.com/mnews/article/277/0005088162?sid=101'}]}"
            ]
          },
          "metadata": {},
          "execution_count": 45
        }
      ]
    },
    {
      "cell_type": "code",
      "source": [
        "makeJson(makeNewsJson(), return_name())"
      ],
      "metadata": {
        "id": "k_tgaJKzsM-b",
        "colab": {
          "base_uri": "https://localhost:8080/"
        },
        "outputId": "d0149700-002e-4478-9982-803f38d28242"
      },
      "execution_count": 53,
      "outputs": [
        {
          "output_type": "execute_result",
          "data": {
            "text/plain": [
              "{'company': [{'company_name': '롯데케미칼',\n",
              "   'news': [{'important': ['롯데케미칼 日지사 상무 합류', ' 인수·합병 담당할 듯'],\n",
              "     'sentiment': 'Positive',\n",
              "     'summary': '롯데 급여 신유열씨는 2020년 일본 롯데와 일본 롯데홀딩스에 입사해 근무했으며 최근 롯데케미칼 일본 지사에 미등기 임원으로 참여했는데, 일본 롯데, 롯데홀딩스 업무도 겸직하면서 향후 인수·합병(M&A) 업무를 담당할 것으로 보인다.',\n",
              "     'url': 'https://n.news.naver.com/mnews/article/277/0005088162?sid=101'}],\n",
              "   'stock_graph': '',\n",
              "   'stock_info': [{'날짜': '20220517'},\n",
              "    {'시가': 193000},\n",
              "    {'고가': 198000},\n",
              "    {'저가': 193000},\n",
              "    {'종가': 196500},\n",
              "    {'거래량': 107787},\n",
              "    {'외국인소진율': 24.3}],\n",
              "   'ticker': '011170'}]}"
            ]
          },
          "metadata": {},
          "execution_count": 53
        }
      ]
    },
    {
      "cell_type": "code",
      "source": [
        ""
      ],
      "metadata": {
        "id": "FfXQhMYmCCNC"
      },
      "execution_count": null,
      "outputs": []
    }
  ]
}