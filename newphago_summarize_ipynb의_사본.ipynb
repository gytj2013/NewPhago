{
  "nbformat": 4,
  "nbformat_minor": 0,
  "metadata": {
    "colab": {
      "name": "newphago_summarize.ipynb의 사본",
      "provenance": [],
      "collapsed_sections": []
    },
    "kernelspec": {
      "name": "python3",
      "display_name": "Python 3"
    },
    "language_info": {
      "name": "python"
    },
    "accelerator": "GPU"
  },
  "cells": [
    {
      "cell_type": "code",
      "execution_count": null,
      "metadata": {
        "id": "Fu7GbJf4m4h1"
      },
      "outputs": [],
      "source": [
        "#!pip install konlpy\n",
        "#!pip install git+https://github.com/kakaobrain/pororo.git\n",
        "#!pip install python-mecab-ko\n",
        "#!pip install pykrx"
      ]
    },
    {
      "cell_type": "code",
      "source": [
        "from pororo import Pororo"
      ],
      "metadata": {
        "id": "9tQ0AINXo6KL"
      },
      "execution_count": null,
      "outputs": []
    },
    {
      "cell_type": "code",
      "source": [
        "from pykrx import stock\n",
        "import pandas as pd\n",
        "\n",
        "KOSDAQ = stock.get_market_ticker_list(market=\"KOSDAQ\")\n",
        "KOSPI = stock.get_market_ticker_list(market=\"KOSPI\")\n",
        "\n",
        "def return_name(market):\n",
        "    Company = []\n",
        "\n",
        "    for ticker in market:\n",
        "        Value =stock.get_market_ticker_name(ticker)\n",
        "        Company.append([Value,ticker])\n",
        " \n",
        "    return Company"
      ],
      "metadata": {
        "id": "bhLnQVi9p1AR"
      },
      "execution_count": null,
      "outputs": []
    },
    {
      "cell_type": "code",
      "source": [
        "from bs4 import BeautifulSoup\n",
        "import requests\n",
        "\n",
        "bullet_summ = Pororo(task=\"text_summarization\", lang=\"ko\", model=\"bullet\")\n",
        "abs_summ = Pororo(task=\"text_summarization\", lang=\"ko\", model=\"abstractive\")\n",
        "\n",
        "def summerize_news(url, Company):\n",
        "    headers = {\"User-Agent\": \"Mozilla/5.0 (Windows NT 10.0; Win64; x64) AppleWebKit/537.36 (KHTML, like Gecko) Chrome/87.0.4280.88 Safari/537.36\"}\n",
        "    req = requests.get(url, headers=headers)\n",
        "    soup = BeautifulSoup(req.text, 'html.parser')\n",
        "    body = soup.find_all(id='articleBodyContents')\n",
        "    if len(body) > 0:\n",
        "        text = body[0].text\n",
        "        output_bullet = bullet_summ(text, \n",
        "                                    beam=5, \n",
        "                                    len_penalty=0.6,\n",
        "                                    no_repeat_ngram_size=3,\n",
        "                                    top_k=50,\n",
        "                                    top_p=0.7)\n",
        "        summary_output = abs_summ(text, \n",
        "                                  beam=5, \n",
        "                                  len_penalty=0.6,\n",
        "                                  no_repeat_ngram_size=3,\n",
        "                                  top_k=50,\n",
        "                                  top_p=0.7\n",
        "                                  )\n",
        "        summ = \"[주요] \\n\"\n",
        "        for line in output_bullet:\n",
        "          summ += \"-\"+line+\"\\n\"\n",
        "        summ += \"[요약] \\n\"\n",
        "        summ += summary_output+\"\\n\"\n",
        "        target = \"\"\n",
        "        for c in Company :\n",
        "          if c[0] in summary_output :\n",
        "            if len(target) < len(c) :\n",
        "              target = c\n",
        "        summ += \"[회사정보] \\n\"\n",
        "        if target==\"\" :\n",
        "          summ += \"null \\n\"\n",
        "        else :\n",
        "          summ += target+\"\\n\"\n",
        "\n",
        "        return summ\n",
        "    else:\n",
        "        return \"error\"\n"
      ],
      "metadata": {
        "id": "L3e2MBeqx8b8"
      },
      "execution_count": null,
      "outputs": []
    },
    {
      "cell_type": "code",
      "source": [
        "import time\n",
        "import re\n",
        "import requests\n",
        "from datetime import datetime\n",
        "from dateutil.relativedelta import relativedelta\n",
        "\n",
        "# 오늘 날짜 형식화\n",
        "now=datetime.now()\n",
        "now=str(now)\n",
        "year=now[0:4]\n",
        "month=now[5:7]\n",
        "day=now[8:10]\n",
        "res=year+month+day\n",
        "\n",
        "# url file에 저장 (max_page_num 바꿔주면 됨)\n",
        "output_file_name=str(res)+\"_url.txt\"\n",
        "output_file = open(output_file_name, \"w\", encoding=\"utf-8\")\n",
        "page_num = 1\n",
        "max_page_num = 1\n",
        "\n",
        "user_agent = \"'Mozilla/5.0\"\n",
        "headers ={\"User-Agent\" : user_agent}\n",
        "\n",
        "urls = []\n",
        "while page_num<=max_page_num:\n",
        "    page_url = \"http://news.naver.com/main/list.nhn?sid2=258&sid1=101&mid=shm&mode=LS2D&date=\" + str(res) + \"&page=\" + str(page_num) + \"\"\n",
        "    response = requests.get(page_url, headers=headers)\n",
        "    html = response.text\n",
        "    # url 추출\n",
        "    url_frags = re.findall('<a href=\"(.*?)\"',html)\n",
        "    for url_frag in url_frags:\n",
        "        if \"sid1=101&sid2=258\" in url_frag and \"aid\" in url_frag:\n",
        "            urls.append(url_frag)\n",
        "    page_num+=1\n",
        "result=set(urls)\n",
        "urls=list(result)\n",
        "for url in urls:\n",
        "    print(url, file=output_file)\n",
        "time.sleep(2)\n",
        "output_file.close()\n",
        "\n",
        "# url 바탕으로 요약문 생성\n",
        "# 요약문 file에 저장(테스트용으로 count로 6개만 끊어준것임)\n",
        "output_file_name2=str(res)+\"_summarized.txt\"\n",
        "output_file2 = open(output_file_name2, \"w\", encoding=\"utf-8\")\n",
        "count=0\n",
        "for url in urls:\n",
        "  if(count>5):\n",
        "    break\n",
        "  count=count+1\n",
        "  print(summerize_news(url,return_name(KOSPI)), file=output_file2)\n",
        "output_file2.close()\n",
        "'''\n",
        "# mount it\n",
        "from google.colab import drive\n",
        "drive.mount('/content/drive')\n",
        "# copy it there\n",
        "!cp \"20220408_summarized.txt\" /content/drive/MyDrive\n",
        "!cp \"20220408_url.txt\" /content/drive/MyDrive\n",
        "'''\n"
      ],
      "metadata": {
        "id": "2ctsAa2Apzer",
        "colab": {
          "base_uri": "https://localhost:8080/",
          "height": 53
        },
        "outputId": "b6958ad5-ecf4-4c45-ae9c-39fdbf649d83"
      },
      "execution_count": null,
      "outputs": [
        {
          "output_type": "execute_result",
          "data": {
            "text/plain": [
              "'\\n# mount it\\nfrom google.colab import drive\\ndrive.mount(\\'/content/drive\\')\\n# copy it there\\n!cp \"20220408_summarized.txt\" /content/drive/MyDrive\\n!cp \"20220408_url.txt\" /content/drive/MyDrive\\n'"
            ],
            "application/vnd.google.colaboratory.intrinsic+json": {
              "type": "string"
            }
          },
          "metadata": {},
          "execution_count": 21
        }
      ]
    },
    {
      "cell_type": "code",
      "source": [
        ""
      ],
      "metadata": {
        "id": "jOuBX9eUvoJR"
      },
      "execution_count": null,
      "outputs": []
    }
  ]
}